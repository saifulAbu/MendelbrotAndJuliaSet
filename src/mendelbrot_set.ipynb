import numpy
import matplotlib.pyplot as pyplot

%matplotlib inline
def mandel(c, maxiter):
	z = complex(0, 0)

	for itr in range(maxiter):
		z = (z * z) + c
		if abs(z) > 4:
			break
			pass
		pass

	return itr

## plot Mendelbrot set
xvalues = numpy.linspace(-2.25, 0.75, 1000)
yvalues = numpy.linspace(-1.5, 1.5, 1000)

# xvalues = numpy.linspace(-0.22, -0.21, 1000)
# yvalues = numpy.linspace(-0.7, -0.69, 1000)


xlen = len(xvalues)
ylen = len(yvalues)

atlas = numpy.empty((xlen, ylen))


for ix in range(xlen):
	for iy in range(ylen):
		cx = xvalues[ix]
		cy = yvalues[iy]
		c = complex(cx, cy)
		atlas[ix, iy] = mandel(c, 120)
	pass
pass

pyplot.figure(figsize=(18,18))
pyplot.imshow(atlas.T, cmap=pyplot.get_cmap('rainbow'), vmin=0, vmax=120)

