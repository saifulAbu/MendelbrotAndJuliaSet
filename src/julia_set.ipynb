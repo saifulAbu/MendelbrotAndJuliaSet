#### plot julia set
import numpy
import matplotlib.pyplot as pyplot

%matplotlib inline


def julia(z, c, maxiter):
	for itr in range(maxiter):
		z = (z * z) + c
		if abs(z) > 4:
			break
			pass
		pass
	return itr


xvalues = numpy.linspace(-2, 2, 1000)
yvalues = numpy.linspace(-2, 2, 1000)

# fixed c for a juila set
c = complex(-0.35, 0.65)

xlen = len(xvalues)
ylen = len(yvalues)

atlas = numpy.empty((xlen, ylen))

for ix in range(xlen):
	for iy in range(ylen):
		zx = xvalues[ix]
		zy = yvalues[iy]
		z = complex(zx, zy)
		atlas[ix, iy] = julia(z, c, 80)
	pass
pass

pyplot.figure(figsize=(18,18))
#pyplot.imshow(atlas.T, interpolation="nearest")
pyplot.imshow(atlas.T, cmap=pyplot.get_cmap('rainbow'), vmin=0, vmax=80)

# https://matplotlib.org/tutorials/colors/colormaps.html
